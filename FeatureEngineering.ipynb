{
 "cells": [
  {
   "cell_type": "markdown",
   "metadata": {},
   "source": [
    "## import libraries"
   ]
  },
  {
   "cell_type": "code",
   "execution_count": 1,
   "metadata": {},
   "outputs": [],
   "source": [
    "import pandas as pd\n",
    "import numpy as np\n",
    "import matplotlib.pyplot as plt\n",
    "import seaborn as sns\n",
    "import pandas_profiling as pp\n",
    "from itertools import product\n",
    "from datetime import datetime\n",
    "from dateutil.relativedelta import relativedelta\n",
    "from calendar import monthrange\n",
    "from sklearn.preprocessing import LabelEncoder\n",
    "\n",
    "pd.set_option('display.max_rows', None)\n",
    "pd.set_option('display.max_columns', None)"
   ]
  },
  {
   "cell_type": "markdown",
   "metadata": {},
   "source": [
    "## read data"
   ]
  },
  {
   "cell_type": "code",
   "execution_count": 2,
   "metadata": {
    "scrolled": true
   },
   "outputs": [],
   "source": [
    "cats = pd.read_csv('./data/item_categories_b4fe.csv')\n",
    "shops = pd.read_csv('./data/shops_b4fe.csv')\n",
    "test = pd.read_csv('./data/test.csv')\n",
    "sample_submission = pd.read_csv('./data/sample_submission.csv')\n",
    "items = pd.read_csv('./data/items.csv')\n",
    "train = pd.read_csv('./data/sales_train_b4fe.csv')"
   ]
  },
  {
   "cell_type": "markdown",
   "metadata": {},
   "source": [
    "### shops"
   ]
  },
  {
   "cell_type": "code",
   "execution_count": 3,
   "metadata": {},
   "outputs": [],
   "source": [
    "# extract geographical info from city\n",
    "geo_info = pd.read_csv('./data/worldcities_ru.csv', usecols=['city','lat','lng','population'])\n",
    "\n",
    "shops = shops.merge(geo_info, on='city', how='left')\n",
    "shops['population'] = shops['population'].fillna(0)\n",
    "\n",
    "# LabelEncode city\n",
    "shops['city'] = shops['city'].astype(str)\n",
    "shops['city_code'] = LabelEncoder().fit_transform(shops['city'])"
   ]
  },
  {
   "cell_type": "markdown",
   "metadata": {},
   "source": [
    "### cats"
   ]
  },
  {
   "cell_type": "code",
   "execution_count": 4,
   "metadata": {},
   "outputs": [],
   "source": [
    "# LabelEncoder category\n",
    "for col in ['category0','category1']:\n",
    "    cats[col] = cats[col].astype(str)\n",
    "    cats[col+'_code'] = LabelEncoder().fit_transform(cats[col])"
   ]
  },
  {
   "cell_type": "markdown",
   "metadata": {},
   "source": [
    "### create a dataframe of all possible combinations of shop_id and item_id and their monthly sales"
   ]
  },
  {
   "cell_type": "code",
   "execution_count": 5,
   "metadata": {},
   "outputs": [],
   "source": [
    "matrix = []\n",
    "\n",
    "for month in train['date_block_num'].unique():\n",
    "    \n",
    "    shop_ids = train.loc[train['date_block_num'] == month, 'shop_id'].unique()\n",
    "    item_ids = train.loc[train['date_block_num'] == month, 'item_id'].unique()\n",
    "    matrix.append(np.array(list(product([month], shop_ids, item_ids))))\n",
    "    \n",
    "# turn the grid into a dataframe\n",
    "index_cols = ['date_block_num', 'shop_id', 'item_id']\n",
    "df = pd.DataFrame(np.vstack(matrix), columns = index_cols)\n",
    "\n",
    "df.sort_values(by=index_cols, inplace=True)\n",
    "\n",
    "# cnt\n",
    "cnt_group = train.groupby(index_cols)['item_cnt_day'].sum().to_frame(name='item_cnt_month')\n",
    "df = df.merge(cnt_group, on=index_cols, how='left')\n",
    "df['item_cnt_month'] = df['item_cnt_month'].clip(0,20)"
   ]
  },
  {
   "cell_type": "markdown",
   "metadata": {},
   "source": [
    "### concat all datasts"
   ]
  },
  {
   "cell_type": "code",
   "execution_count": 6,
   "metadata": {},
   "outputs": [],
   "source": [
    "# test\n",
    "test_ = test.drop('ID', axis=1)\n",
    "test_['date_block_num'] = 34\n",
    "\n",
    "df = df.append(test_, ignore_index=True)\n",
    "df = df.fillna(0)\n",
    "\n",
    "# items\n",
    "df = df.merge(items[['item_id','item_category_id']], on='item_id', how='left')\n",
    "\n",
    "# cats\n",
    "df = df.merge(cats[['item_category_id','category0_code','category1_code']], on='item_category_id', how='left')\n",
    "\n",
    "# shops\n",
    "df = df.merge(shops[['shop_id','city_code','lat','lng','population']], on='shop_id', how='left')"
   ]
  },
  {
   "cell_type": "markdown",
   "metadata": {},
   "source": [
    "### downcast dtype\n"
   ]
  },
  {
   "cell_type": "code",
   "execution_count": 7,
   "metadata": {},
   "outputs": [],
   "source": [
    "int8_cols = ['date_block_num','shop_id','city_code','item_category_id','category0_code','category1_code']\n",
    "int16_cols = ['item_id']\n",
    "int32_cols = ['population']\n",
    "float16_cols = ['item_cnt_month','lat','lng']\n",
    "\n",
    "dtype_dict = {np.int8:int8_cols, np.int16:int16_cols, np.int32: int32_cols, np.float16:float16_cols}\n",
    "\n",
    "for dtype, cols in dtype_dict.items():\n",
    "    for col in cols:\n",
    "        df[col] = df[col].astype(dtype)"
   ]
  },
  {
   "cell_type": "markdown",
   "metadata": {},
   "source": [
    "### lag  function"
   ]
  },
  {
   "cell_type": "code",
   "execution_count": 8,
   "metadata": {},
   "outputs": [],
   "source": [
    "def add_lags(df, lag_feature, lags):\n",
    "    for lag in lags:\n",
    "        group_features = ['shop_id','item_id']\n",
    "        lag_name = '%s_lag_%d'%(lag_feature, lag)\n",
    "        df[lag_name] = df.groupby(group_features)[lag_feature].shift(lag)\n",
    "        \n",
    "    return df"
   ]
  },
  {
   "cell_type": "markdown",
   "metadata": {},
   "source": [
    "### target  encoding function"
   ]
  },
  {
   "cell_type": "code",
   "execution_count": 9,
   "metadata": {},
   "outputs": [],
   "source": [
    "def add_encoding(df, group_features, on_feature, new_name, how='mean'):\n",
    "    mean_group = df.groupby(group_features)[on_feature].agg(how).to_frame(name=new_name).reset_index()\n",
    "    \n",
    "    if on_feature != 'revenue':\n",
    "        mean_group[new_name] = mean_group[new_name].astype(np.float16)\n",
    "    \n",
    "    return mean_group"
   ]
  },
  {
   "cell_type": "code",
   "execution_count": 10,
   "metadata": {},
   "outputs": [
    {
     "name": "stdout",
     "output_type": "stream",
     "text": [
      "CPU times: user 46.8 s, sys: 11.9 s, total: 58.7 s\n",
      "Wall time: 59.3 s\n"
     ]
    }
   ],
   "source": [
    "%%time\n",
    "# add lag features for monthly cnt\n",
    "df = add_lags(df=df, lag_feature='item_cnt_month', lags=[1,2,3])\n",
    "\n",
    "# add target encoding feature and then lag feature\n",
    "date_encoding_dict = {\n",
    "      'avg_cnt_by_month':['date_block_num'] # month\n",
    "     ,'avg_cnt_by_month_item':['date_block_num','item_id'] # month_item\n",
    "     ,'avg_cnt_by_month_shop':['date_block_num','shop_id'] # month_shop\n",
    "     ,'avg_cnt_by_month_shop_item':['date_block_num','shop_id','item_id']\n",
    "     #,'target_month_category':['date_block_num','item_category_id'] # month_item_category\n",
    "     #,'target_month_category0':['date_block_num','category0_le']\n",
    "     ,'avg_cnt_by_month_shop_cat':['date_block_num','shop_id','item_category_id']\n",
    "     ,'avg_cnt_by_month_shop_loc':['date_block_num','shop_id','city_code']\n",
    "     #,'target_month_shop_category0':['date_block_num','shop_id','category0_le']\n",
    "     #,'target_month_location':['date_block_num','location_le']\n",
    "     ,'avg_cnt_by_month_item_loc':['date_block_num','item_id','city_code']\n",
    "     }\n",
    "\n",
    "for k,v in date_encoding_dict.items():\n",
    "    group = add_encoding(df, group_features=v, new_name=k, on_feature='item_cnt_month')\n",
    "    df = df.merge(group, on=v, how='left')\n",
    "    #df = lag_feature(df, [1], k)\n",
    "    df = add_lags(df=df, lag_feature=k, lags=[1])\n",
    "    df.drop([k], axis=1, inplace=True)"
   ]
  },
  {
   "cell_type": "code",
   "execution_count": 11,
   "metadata": {},
   "outputs": [
    {
     "name": "stdout",
     "output_type": "stream",
     "text": [
      "CPU times: user 11.1 s, sys: 2.96 s, total: 14.1 s\n",
      "Wall time: 14.1 s\n"
     ]
    }
   ],
   "source": [
    "%%time\n",
    "# price mean encoding\n",
    "price_encoding_dict = {\n",
    "    'avg_price_by_item':['item_id']\n",
    "    ,'avg_price_by_item_month':['date_block_num','item_id']\n",
    "}\n",
    "\n",
    "features_to_drop = list(price_encoding_dict.keys())\n",
    "\n",
    "for k,v in price_encoding_dict.items():\n",
    "    group = add_encoding(df = train, group_features=v, new_name=k, on_feature='item_price')\n",
    "    df = df.merge(group, on=v, how='left')\n",
    "\n",
    "# lags\n",
    "lags = [1,2,3]\n",
    "df = add_lags(df=df, lag_feature='avg_price_by_item_month', lags=lags)\n",
    "\n",
    "for lag in lags:\n",
    "    lag_name = 'delta_price_lag_%d'%(lag)\n",
    "    features_to_drop.append(lag_name)\n",
    "                        \n",
    "    df[lag_name] = (df['%s_lag_%d'%('avg_price_by_item_month', lag)]\\\n",
    "                    - df['avg_price_by_item'])\\\n",
    "                   / df['avg_price_by_item']\n",
    "        \n",
    "df['delta_price_lag'] = df[['delta_price_lag_1',\n",
    "                            'delta_price_lag_2',\n",
    "                            'delta_price_lag_3']].max(1)\n",
    "\n",
    "df['delta_price_lag'] = df['delta_price_lag'].fillna(0)\n",
    "\n",
    "df.drop(features_to_drop, axis=1, inplace=True)"
   ]
  },
  {
   "cell_type": "code",
   "execution_count": 12,
   "metadata": {},
   "outputs": [
    {
     "name": "stdout",
     "output_type": "stream",
     "text": [
      "CPU times: user 9.63 s, sys: 4.05 s, total: 13.7 s\n",
      "Wall time: 13.8 s\n"
     ]
    }
   ],
   "source": [
    "%%time\n",
    "# revenue sum and mean encoding\n",
    "train['revenue'] = train['item_cnt_day'] * train['item_price']\n",
    "\n",
    "group1 = add_encoding(df=train, group_features=['date_block_num','shop_id'], on_feature='revenue',\n",
    "                    new_name='total_revenue_by_month_shop', how='sum')\n",
    "\n",
    "df = df.merge(group1, on=['date_block_num','shop_id'], how='left')\n",
    "\n",
    "group2 = add_encoding(df=train, group_features=['shop_id'], on_feature='revenue', new_name='avg_revenue_by_shop')\n",
    "\n",
    "df = df.merge(group2, on=['shop_id'], how='left')\n",
    "\n",
    "df['delta_revenue'] = (df['total_revenue_by_month_shop'] - df['avg_revenue_by_shop']) / df['avg_revenue_by_shop']\n",
    "\n",
    "df = add_lags(df=df, lag_feature='delta_revenue', lags=[1])\n",
    "\n",
    "df.drop(['total_revenue_by_month_shop','avg_revenue_by_shop','delta_revenue'], axis=1, inplace=True)"
   ]
  },
  {
   "cell_type": "markdown",
   "metadata": {},
   "source": [
    "### date feature"
   ]
  },
  {
   "cell_type": "code",
   "execution_count": 13,
   "metadata": {
    "scrolled": true
   },
   "outputs": [
    {
     "name": "stdout",
     "output_type": "stream",
     "text": [
      "CPU times: user 54.9 s, sys: 696 ms, total: 55.6 s\n",
      "Wall time: 55.9 s\n"
     ]
    }
   ],
   "source": [
    "%%time\n",
    "date0 = datetime.strptime(train['date'].min(), '%d.%m.%Y')\n",
    "\n",
    "def get_year(date_num):\n",
    "    date = date0 + relativedelta(months=date_num)\n",
    "    return date.year\n",
    "\n",
    "def get_month(date_num):\n",
    "    date = date0 + relativedelta(months=date_num)\n",
    "    return date.month\n",
    "\n",
    "def get_days(date_num):\n",
    "    date = date0 + relativedelta(months=date_num)\n",
    "    return monthrange(date.year, date.month)[1]\n",
    "\n",
    "calendar_dict = {}\n",
    "for i in df['date_block_num'].unique():\n",
    "    calendar_dict[i] = [get_year(i), get_month(i), get_days(i)]\n",
    "    \n",
    "for i, c in enumerate(['year','month','num_days']):\n",
    "    df[c] = df['date_block_num'].map(lambda x: calendar_dict[x][i])\n",
    "    df[c] = df[c].astype(np.int16)"
   ]
  },
  {
   "cell_type": "markdown",
   "metadata": {},
   "source": [
    "### item feature"
   ]
  },
  {
   "cell_type": "code",
   "execution_count": 14,
   "metadata": {},
   "outputs": [],
   "source": [
    "df[\"months_after_first_sale_by_item_shop\"] = df[\"date_block_num\"]\\\n",
    "                                - df.groupby([\"item_id\",\"shop_id\"])[\"date_block_num\"].transform('min')\n",
    "\n",
    "df[\"months_after_first_sale_by_item\"] = df[\"date_block_num\"]\\\n",
    "                                - df.groupby([\"item_id\"])[\"date_block_num\"].transform('min')\n",
    "\n",
    "df['is_first_sale_by_item_shop'] = np.where(df[\"months_after_first_sale_by_item_shop\"]==0,1,0)\n",
    "df['is_first_sale_by_item'] = np.where(df[\"months_after_first_sale_by_item\"]==0,1,0)\n",
    "\n",
    "df['is_first_sale_by_item_shop'] =df['is_first_sale_by_item_shop'].astype(np.int8)\n",
    "df['is_first_sale_by_item'] =df['is_first_sale_by_item'].astype(np.int8)"
   ]
  },
  {
   "cell_type": "code",
   "execution_count": 15,
   "metadata": {},
   "outputs": [],
   "source": [
    "df = df[df.date_block_num > 3]"
   ]
  },
  {
   "cell_type": "code",
   "execution_count": 16,
   "metadata": {
    "scrolled": true
   },
   "outputs": [
    {
     "data": {
      "text/html": [
       "<div>\n",
       "<style scoped>\n",
       "    .dataframe tbody tr th:only-of-type {\n",
       "        vertical-align: middle;\n",
       "    }\n",
       "\n",
       "    .dataframe tbody tr th {\n",
       "        vertical-align: top;\n",
       "    }\n",
       "\n",
       "    .dataframe thead th {\n",
       "        text-align: right;\n",
       "    }\n",
       "</style>\n",
       "<table border=\"1\" class=\"dataframe\">\n",
       "  <thead>\n",
       "    <tr style=\"text-align: right;\">\n",
       "      <th></th>\n",
       "      <th>date_block_num</th>\n",
       "      <th>shop_id</th>\n",
       "      <th>item_id</th>\n",
       "      <th>item_cnt_month</th>\n",
       "      <th>item_category_id</th>\n",
       "      <th>category0_code</th>\n",
       "      <th>category1_code</th>\n",
       "      <th>city_code</th>\n",
       "      <th>lat</th>\n",
       "      <th>lng</th>\n",
       "      <th>population</th>\n",
       "      <th>item_cnt_month_lag_1</th>\n",
       "      <th>item_cnt_month_lag_2</th>\n",
       "      <th>item_cnt_month_lag_3</th>\n",
       "      <th>avg_cnt_by_month_lag_1</th>\n",
       "      <th>avg_cnt_by_month_item_lag_1</th>\n",
       "      <th>avg_cnt_by_month_shop_lag_1</th>\n",
       "      <th>avg_cnt_by_month_shop_item_lag_1</th>\n",
       "      <th>avg_cnt_by_month_shop_cat_lag_1</th>\n",
       "      <th>avg_cnt_by_month_shop_loc_lag_1</th>\n",
       "      <th>avg_cnt_by_month_item_loc_lag_1</th>\n",
       "      <th>avg_price_by_item_month_lag_1</th>\n",
       "      <th>avg_price_by_item_month_lag_2</th>\n",
       "      <th>avg_price_by_item_month_lag_3</th>\n",
       "      <th>delta_price_lag</th>\n",
       "      <th>delta_revenue_lag_1</th>\n",
       "      <th>year</th>\n",
       "      <th>month</th>\n",
       "      <th>num_days</th>\n",
       "      <th>months_after_first_sale_by_item_shop</th>\n",
       "      <th>months_after_first_sale_by_item</th>\n",
       "      <th>is_first_sale_by_item_shop</th>\n",
       "      <th>is_first_sale_by_item</th>\n",
       "    </tr>\n",
       "  </thead>\n",
       "  <tbody>\n",
       "    <tr>\n",
       "      <th>0</th>\n",
       "      <td>0</td>\n",
       "      <td>2</td>\n",
       "      <td>19</td>\n",
       "      <td>0.0</td>\n",
       "      <td>40</td>\n",
       "      <td>10</td>\n",
       "      <td>20</td>\n",
       "      <td>8</td>\n",
       "      <td>44.59375</td>\n",
       "      <td>40.09375</td>\n",
       "      <td>141970</td>\n",
       "      <td>0.0</td>\n",
       "      <td>0.0</td>\n",
       "      <td>0.0</td>\n",
       "      <td>0.0</td>\n",
       "      <td>0.0</td>\n",
       "      <td>0.0</td>\n",
       "      <td>0.0</td>\n",
       "      <td>0.0</td>\n",
       "      <td>0.0</td>\n",
       "      <td>0.0</td>\n",
       "      <td>0.0</td>\n",
       "      <td>0.0</td>\n",
       "      <td>0.0</td>\n",
       "      <td>0.0</td>\n",
       "      <td>0.0</td>\n",
       "      <td>2013</td>\n",
       "      <td>1</td>\n",
       "      <td>31</td>\n",
       "      <td>0</td>\n",
       "      <td>0</td>\n",
       "      <td>1</td>\n",
       "      <td>1</td>\n",
       "    </tr>\n",
       "    <tr>\n",
       "      <th>1</th>\n",
       "      <td>0</td>\n",
       "      <td>2</td>\n",
       "      <td>27</td>\n",
       "      <td>1.0</td>\n",
       "      <td>19</td>\n",
       "      <td>7</td>\n",
       "      <td>43</td>\n",
       "      <td>8</td>\n",
       "      <td>44.59375</td>\n",
       "      <td>40.09375</td>\n",
       "      <td>141970</td>\n",
       "      <td>0.0</td>\n",
       "      <td>0.0</td>\n",
       "      <td>0.0</td>\n",
       "      <td>0.0</td>\n",
       "      <td>0.0</td>\n",
       "      <td>0.0</td>\n",
       "      <td>0.0</td>\n",
       "      <td>0.0</td>\n",
       "      <td>0.0</td>\n",
       "      <td>0.0</td>\n",
       "      <td>0.0</td>\n",
       "      <td>0.0</td>\n",
       "      <td>0.0</td>\n",
       "      <td>0.0</td>\n",
       "      <td>0.0</td>\n",
       "      <td>2013</td>\n",
       "      <td>1</td>\n",
       "      <td>31</td>\n",
       "      <td>0</td>\n",
       "      <td>0</td>\n",
       "      <td>1</td>\n",
       "      <td>1</td>\n",
       "    </tr>\n",
       "    <tr>\n",
       "      <th>2</th>\n",
       "      <td>0</td>\n",
       "      <td>2</td>\n",
       "      <td>28</td>\n",
       "      <td>0.0</td>\n",
       "      <td>30</td>\n",
       "      <td>13</td>\n",
       "      <td>52</td>\n",
       "      <td>8</td>\n",
       "      <td>44.59375</td>\n",
       "      <td>40.09375</td>\n",
       "      <td>141970</td>\n",
       "      <td>0.0</td>\n",
       "      <td>0.0</td>\n",
       "      <td>0.0</td>\n",
       "      <td>0.0</td>\n",
       "      <td>0.0</td>\n",
       "      <td>0.0</td>\n",
       "      <td>0.0</td>\n",
       "      <td>0.0</td>\n",
       "      <td>0.0</td>\n",
       "      <td>0.0</td>\n",
       "      <td>0.0</td>\n",
       "      <td>0.0</td>\n",
       "      <td>0.0</td>\n",
       "      <td>0.0</td>\n",
       "      <td>0.0</td>\n",
       "      <td>2013</td>\n",
       "      <td>1</td>\n",
       "      <td>31</td>\n",
       "      <td>0</td>\n",
       "      <td>0</td>\n",
       "      <td>1</td>\n",
       "      <td>1</td>\n",
       "    </tr>\n",
       "    <tr>\n",
       "      <th>3</th>\n",
       "      <td>0</td>\n",
       "      <td>2</td>\n",
       "      <td>29</td>\n",
       "      <td>0.0</td>\n",
       "      <td>23</td>\n",
       "      <td>7</td>\n",
       "      <td>57</td>\n",
       "      <td>8</td>\n",
       "      <td>44.59375</td>\n",
       "      <td>40.09375</td>\n",
       "      <td>141970</td>\n",
       "      <td>0.0</td>\n",
       "      <td>0.0</td>\n",
       "      <td>0.0</td>\n",
       "      <td>0.0</td>\n",
       "      <td>0.0</td>\n",
       "      <td>0.0</td>\n",
       "      <td>0.0</td>\n",
       "      <td>0.0</td>\n",
       "      <td>0.0</td>\n",
       "      <td>0.0</td>\n",
       "      <td>0.0</td>\n",
       "      <td>0.0</td>\n",
       "      <td>0.0</td>\n",
       "      <td>0.0</td>\n",
       "      <td>0.0</td>\n",
       "      <td>2013</td>\n",
       "      <td>1</td>\n",
       "      <td>31</td>\n",
       "      <td>0</td>\n",
       "      <td>0</td>\n",
       "      <td>1</td>\n",
       "      <td>1</td>\n",
       "    </tr>\n",
       "    <tr>\n",
       "      <th>4</th>\n",
       "      <td>0</td>\n",
       "      <td>2</td>\n",
       "      <td>32</td>\n",
       "      <td>0.0</td>\n",
       "      <td>40</td>\n",
       "      <td>10</td>\n",
       "      <td>20</td>\n",
       "      <td>8</td>\n",
       "      <td>44.59375</td>\n",
       "      <td>40.09375</td>\n",
       "      <td>141970</td>\n",
       "      <td>0.0</td>\n",
       "      <td>0.0</td>\n",
       "      <td>0.0</td>\n",
       "      <td>0.0</td>\n",
       "      <td>0.0</td>\n",
       "      <td>0.0</td>\n",
       "      <td>0.0</td>\n",
       "      <td>0.0</td>\n",
       "      <td>0.0</td>\n",
       "      <td>0.0</td>\n",
       "      <td>0.0</td>\n",
       "      <td>0.0</td>\n",
       "      <td>0.0</td>\n",
       "      <td>0.0</td>\n",
       "      <td>0.0</td>\n",
       "      <td>2013</td>\n",
       "      <td>1</td>\n",
       "      <td>31</td>\n",
       "      <td>0</td>\n",
       "      <td>0</td>\n",
       "      <td>1</td>\n",
       "      <td>1</td>\n",
       "    </tr>\n",
       "  </tbody>\n",
       "</table>\n",
       "</div>"
      ],
      "text/plain": [
       "   date_block_num  shop_id  item_id  item_cnt_month  item_category_id  \\\n",
       "0               0        2       19             0.0                40   \n",
       "1               0        2       27             1.0                19   \n",
       "2               0        2       28             0.0                30   \n",
       "3               0        2       29             0.0                23   \n",
       "4               0        2       32             0.0                40   \n",
       "\n",
       "   category0_code  category1_code  city_code       lat       lng  population  \\\n",
       "0              10              20          8  44.59375  40.09375      141970   \n",
       "1               7              43          8  44.59375  40.09375      141970   \n",
       "2              13              52          8  44.59375  40.09375      141970   \n",
       "3               7              57          8  44.59375  40.09375      141970   \n",
       "4              10              20          8  44.59375  40.09375      141970   \n",
       "\n",
       "   item_cnt_month_lag_1  item_cnt_month_lag_2  item_cnt_month_lag_3  \\\n",
       "0                   0.0                   0.0                   0.0   \n",
       "1                   0.0                   0.0                   0.0   \n",
       "2                   0.0                   0.0                   0.0   \n",
       "3                   0.0                   0.0                   0.0   \n",
       "4                   0.0                   0.0                   0.0   \n",
       "\n",
       "   avg_cnt_by_month_lag_1  avg_cnt_by_month_item_lag_1  \\\n",
       "0                     0.0                          0.0   \n",
       "1                     0.0                          0.0   \n",
       "2                     0.0                          0.0   \n",
       "3                     0.0                          0.0   \n",
       "4                     0.0                          0.0   \n",
       "\n",
       "   avg_cnt_by_month_shop_lag_1  avg_cnt_by_month_shop_item_lag_1  \\\n",
       "0                          0.0                               0.0   \n",
       "1                          0.0                               0.0   \n",
       "2                          0.0                               0.0   \n",
       "3                          0.0                               0.0   \n",
       "4                          0.0                               0.0   \n",
       "\n",
       "   avg_cnt_by_month_shop_cat_lag_1  avg_cnt_by_month_shop_loc_lag_1  \\\n",
       "0                              0.0                              0.0   \n",
       "1                              0.0                              0.0   \n",
       "2                              0.0                              0.0   \n",
       "3                              0.0                              0.0   \n",
       "4                              0.0                              0.0   \n",
       "\n",
       "   avg_cnt_by_month_item_loc_lag_1  avg_price_by_item_month_lag_1  \\\n",
       "0                              0.0                            0.0   \n",
       "1                              0.0                            0.0   \n",
       "2                              0.0                            0.0   \n",
       "3                              0.0                            0.0   \n",
       "4                              0.0                            0.0   \n",
       "\n",
       "   avg_price_by_item_month_lag_2  avg_price_by_item_month_lag_3  \\\n",
       "0                            0.0                            0.0   \n",
       "1                            0.0                            0.0   \n",
       "2                            0.0                            0.0   \n",
       "3                            0.0                            0.0   \n",
       "4                            0.0                            0.0   \n",
       "\n",
       "   delta_price_lag  delta_revenue_lag_1  year  month  num_days  \\\n",
       "0              0.0                  0.0  2013      1        31   \n",
       "1              0.0                  0.0  2013      1        31   \n",
       "2              0.0                  0.0  2013      1        31   \n",
       "3              0.0                  0.0  2013      1        31   \n",
       "4              0.0                  0.0  2013      1        31   \n",
       "\n",
       "   months_after_first_sale_by_item_shop  months_after_first_sale_by_item  \\\n",
       "0                                     0                                0   \n",
       "1                                     0                                0   \n",
       "2                                     0                                0   \n",
       "3                                     0                                0   \n",
       "4                                     0                                0   \n",
       "\n",
       "   is_first_sale_by_item_shop  is_first_sale_by_item  \n",
       "0                           1                      1  \n",
       "1                           1                      1  \n",
       "2                           1                      1  \n",
       "3                           1                      1  \n",
       "4                           1                      1  "
      ]
     },
     "execution_count": 16,
     "metadata": {},
     "output_type": "execute_result"
    }
   ],
   "source": [
    "df.head()"
   ]
  },
  {
   "cell_type": "code",
   "execution_count": 17,
   "metadata": {},
   "outputs": [
    {
     "name": "stdout",
     "output_type": "stream",
     "text": [
      "<class 'pandas.core.frame.DataFrame'>\n",
      "Int64Index: 11056277 entries, 0 to 11056276\n",
      "Data columns (total 33 columns):\n",
      " #   Column                                Dtype  \n",
      "---  ------                                -----  \n",
      " 0   date_block_num                        int8   \n",
      " 1   shop_id                               int8   \n",
      " 2   item_id                               int16  \n",
      " 3   item_cnt_month                        float16\n",
      " 4   item_category_id                      int8   \n",
      " 5   category0_code                        int8   \n",
      " 6   category1_code                        int8   \n",
      " 7   city_code                             int8   \n",
      " 8   lat                                   float16\n",
      " 9   lng                                   float16\n",
      " 10  population                            int32  \n",
      " 11  item_cnt_month_lag_1                  float16\n",
      " 12  item_cnt_month_lag_2                  float16\n",
      " 13  item_cnt_month_lag_3                  float16\n",
      " 14  avg_cnt_by_month_lag_1                float16\n",
      " 15  avg_cnt_by_month_item_lag_1           float16\n",
      " 16  avg_cnt_by_month_shop_lag_1           float16\n",
      " 17  avg_cnt_by_month_shop_item_lag_1      float16\n",
      " 18  avg_cnt_by_month_shop_cat_lag_1       float16\n",
      " 19  avg_cnt_by_month_shop_loc_lag_1       float16\n",
      " 20  avg_cnt_by_month_item_loc_lag_1       float16\n",
      " 21  avg_price_by_item_month_lag_1         float16\n",
      " 22  avg_price_by_item_month_lag_2         float16\n",
      " 23  avg_price_by_item_month_lag_3         float16\n",
      " 24  delta_price_lag                       float16\n",
      " 25  delta_revenue_lag_1                   float64\n",
      " 26  year                                  int16  \n",
      " 27  month                                 int16  \n",
      " 28  num_days                              int16  \n",
      " 29  months_after_first_sale_by_item_shop  int8   \n",
      " 30  months_after_first_sale_by_item       int8   \n",
      " 31  is_first_sale_by_item_shop            int8   \n",
      " 32  is_first_sale_by_item                 int8   \n",
      "dtypes: float16(17), float64(1), int16(4), int32(1), int8(10)\n",
      "memory usage: 759.2 MB\n"
     ]
    }
   ],
   "source": [
    "df.info(memory_usage=True)"
   ]
  },
  {
   "cell_type": "code",
   "execution_count": 18,
   "metadata": {},
   "outputs": [
    {
     "name": "stdout",
     "output_type": "stream",
     "text": [
      "CPU times: user 1.72 s, sys: 427 ms, total: 2.15 s\n",
      "Wall time: 2.19 s\n"
     ]
    }
   ],
   "source": [
    "%%time\n",
    "train = df[df.date_block_num < 33]\n",
    "validation = df[df.date_block_num == 33]\n",
    "test = df[df.date_block_num == 34]"
   ]
  },
  {
   "cell_type": "code",
   "execution_count": 19,
   "metadata": {},
   "outputs": [
    {
     "name": "stdout",
     "output_type": "stream",
     "text": [
      "CPU times: user 2min 58s, sys: 4.55 s, total: 3min 3s\n",
      "Wall time: 3min 5s\n"
     ]
    }
   ],
   "source": [
    "%%time\n",
    "train.to_csv('./data/train_b4md.csv', index=False)"
   ]
  },
  {
   "cell_type": "code",
   "execution_count": 20,
   "metadata": {},
   "outputs": [
    {
     "name": "stdout",
     "output_type": "stream",
     "text": [
      "CPU times: user 7.64 s, sys: 210 ms, total: 7.85 s\n",
      "Wall time: 7.92 s\n"
     ]
    }
   ],
   "source": [
    "%%time\n",
    "validation.to_csv('./data/validation_b4md.csv', index=False)\n",
    "test.to_csv('./data/test_b4md.csv', index=False)"
   ]
  },
  {
   "cell_type": "code",
   "execution_count": 21,
   "metadata": {},
   "outputs": [
    {
     "data": {
      "text/plain": [
       "(214200, 33)"
      ]
     },
     "execution_count": 21,
     "metadata": {},
     "output_type": "execute_result"
    }
   ],
   "source": [
    "df[df.date_block_num == 34].shape"
   ]
  },
  {
   "cell_type": "code",
   "execution_count": null,
   "metadata": {},
   "outputs": [],
   "source": []
  }
 ],
 "metadata": {
  "kernelspec": {
   "display_name": "Python 3",
   "language": "python",
   "name": "python3"
  },
  "language_info": {
   "codemirror_mode": {
    "name": "ipython",
    "version": 3
   },
   "file_extension": ".py",
   "mimetype": "text/x-python",
   "name": "python",
   "nbconvert_exporter": "python",
   "pygments_lexer": "ipython3",
   "version": "3.7.7"
  }
 },
 "nbformat": 4,
 "nbformat_minor": 4
}
